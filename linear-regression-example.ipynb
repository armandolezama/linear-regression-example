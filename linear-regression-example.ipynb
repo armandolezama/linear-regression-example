{
 "cells": [
  {
   "cell_type": "code",
   "execution_count": 1,
   "metadata": {},
   "outputs": [],
   "source": [
    "from modules.analisis import linear_regression_analyzer\n",
    "from modules.data_generator import data_generator\n",
    "from modules.visualization import visualization_module"
   ]
  },
  {
   "cell_type": "code",
   "execution_count": 2,
   "metadata": {},
   "outputs": [
    {
     "name": "stdout",
     "output_type": "stream",
     "text": [
      "<modules.analisis.linear_regression_analyzer object at 0x7fd1c3b03700>\n",
      "<modules.data_generator.data_generator object at 0x7fd1c3fba1c0>\n",
      "<modules.visualization.visualization_module object at 0x7fd206f067c0>\n"
     ]
    }
   ],
   "source": [
    "analyzer = linear_regression_analyzer()\n",
    "\n",
    "data = data_generator()\n",
    "\n",
    "visualizer = visualization_module()"
   ]
  },
  {
   "cell_type": "code",
   "execution_count": 3,
   "metadata": {},
   "outputs": [
    {
     "data": {
      "text/plain": [
       "array([5.63333333, 6.17333333, 6.71333333, 7.25333333, 7.79333333])"
      ]
     },
     "execution_count": 3,
     "metadata": {},
     "output_type": "execute_result"
    }
   ],
   "source": [
    "sample_data = data.data_1\n",
    "regression_results = analyzer.simple_linear_regression(sample_data['x'], sample_data['y'])\n",
    "regression_results['model'].predict(sample_data['x_new'])"
   ]
  },
  {
   "cell_type": "code",
   "execution_count": 4,
   "metadata": {},
   "outputs": [
    {
     "name": "stdout",
     "output_type": "stream",
     "text": [
      "{'model': LinearRegression(), 'intercept': 5.633333333333329, 'slope': array([0.54]), 'determination_coeff': 0.715875613747954, 'predicted_response': array([ 8.33333333, 13.73333333, 19.13333333, 24.53333333, 29.93333333,\n",
      "       35.33333333])}\n"
     ]
    }
   ],
   "source": [
    "print(regression_results)"
   ]
  },
  {
   "cell_type": "code",
   "execution_count": 5,
   "metadata": {},
   "outputs": [
    {
     "data": {
      "text/plain": [
       "array([ 5.77760476,  7.18179502,  8.58598528,  9.99017554, 11.3943658 ])"
      ]
     },
     "execution_count": 5,
     "metadata": {},
     "output_type": "execute_result"
    }
   ],
   "source": [
    "sample_data = data.data_2\n",
    "regression_results = analyzer.multi_linear_regression(sample_data['x'], sample_data['y'])\n",
    "regression_results['model'].predict(sample_data['x_new'])"
   ]
  },
  {
   "cell_type": "code",
   "execution_count": 6,
   "metadata": {},
   "outputs": [
    {
     "name": "stdout",
     "output_type": "stream",
     "text": [
      "{'model': LinearRegression(), 'intercept': 5.52257927519819, 'slope': array([0.44706965, 0.25502548]), 'determination_coeff': 0.8615939258756775, 'predicted_response': array([ 5.77760476,  8.012953  , 12.73867497, 17.9744479 , 23.97529728,\n",
      "       29.4660957 , 38.78227633, 41.27265006])}\n"
     ]
    }
   ],
   "source": [
    "print(regression_results)"
   ]
  },
  {
   "cell_type": "code",
   "execution_count": 7,
   "metadata": {},
   "outputs": [],
   "source": [
    "sample_data = data.data_3\n",
    "regression_results = analyzer.polynomial_regression(sample_data['x'], sample_data['y'])"
   ]
  },
  {
   "cell_type": "code",
   "execution_count": 8,
   "metadata": {},
   "outputs": [
    {
     "name": "stdout",
     "output_type": "stream",
     "text": [
      "{'model': LinearRegression(), 'intercept': 21.372321428571425, 'coefficients': array([-1.32357143,  0.02839286]), 'determination_coeff': 0.8908516262498564, 'predicted_response': array([15.46428571,  7.90714286,  6.02857143,  9.82857143, 19.30714286,\n",
      "       34.46428571])}\n"
     ]
    }
   ],
   "source": [
    "print(regression_results)"
   ]
  },
  {
   "cell_type": "code",
   "execution_count": 15,
   "metadata": {},
   "outputs": [],
   "source": [
    "sample_data = data.data_3\n",
    "regression_results = analyzer.polynomial_regression(x_var=sample_data['x'], y_var=sample_data['y'])"
   ]
  },
  {
   "cell_type": "code",
   "execution_count": 16,
   "metadata": {},
   "outputs": [
    {
     "name": "stdout",
     "output_type": "stream",
     "text": [
      "{'model': LinearRegression(), 'intercept': 21.372321428571425, 'coefficients': array([-1.32357143,  0.02839286]), 'determination_coeff': 0.8908516262498564, 'predicted_response': array([15.46428571,  7.90714286,  6.02857143,  9.82857143, 19.30714286,\n",
      "       34.46428571])}\n"
     ]
    }
   ],
   "source": [
    "print(regression_results)"
   ]
  },
  {
   "cell_type": "code",
   "execution_count": 19,
   "metadata": {},
   "outputs": [],
   "source": [
    "sample_data = data.data_3\n",
    "regression_results = analyzer.polynomial_regression(x_var=sample_data['x'], y_var=sample_data['y'], include_bias=True, fit_intercept=False)"
   ]
  },
  {
   "cell_type": "code",
   "execution_count": 20,
   "metadata": {},
   "outputs": [
    {
     "name": "stdout",
     "output_type": "stream",
     "text": [
      "{'model': LinearRegression(fit_intercept=False), 'intercept': 0.0, 'coefficients': array([21.37232143, -1.32357143,  0.02839286]), 'determination_coeff': 0.8908516262498565, 'predicted_response': array([15.46428571,  7.90714286,  6.02857143,  9.82857143, 19.30714286,\n",
      "       34.46428571])}\n"
     ]
    }
   ],
   "source": [
    "print(regression_results)"
   ]
  },
  {
   "cell_type": "code",
   "execution_count": 21,
   "metadata": {},
   "outputs": [],
   "source": [
    "sample_data = data.data_3_1\n",
    "regression_results = analyzer.polynomial_regression(x_var=sample_data['x'], y_var=sample_data['y'])"
   ]
  },
  {
   "cell_type": "code",
   "execution_count": 22,
   "metadata": {},
   "outputs": [
    {
     "name": "stdout",
     "output_type": "stream",
     "text": [
      "{'model': LinearRegression(), 'intercept': 0.8430556452395734, 'coefficients': array([ 2.44828275,  0.16160353, -0.15259677,  0.47928683, -0.4641851 ]), 'determination_coeff': 0.9453701449127822, 'predicted_response': array([ 0.54047408, 11.36340283, 16.07809622, 15.79139   , 29.73858619,\n",
      "       23.50834636, 39.05631386, 41.92339046])}\n"
     ]
    }
   ],
   "source": [
    "print(regression_results)"
   ]
  }
 ],
 "metadata": {
  "kernelspec": {
   "display_name": "DataSciencePortfolio",
   "language": "python",
   "name": "python3"
  },
  "language_info": {
   "codemirror_mode": {
    "name": "ipython",
    "version": 3
   },
   "file_extension": ".py",
   "mimetype": "text/x-python",
   "name": "python",
   "nbconvert_exporter": "python",
   "pygments_lexer": "ipython3",
   "version": "3.9.13"
  },
  "orig_nbformat": 4
 },
 "nbformat": 4,
 "nbformat_minor": 2
}
