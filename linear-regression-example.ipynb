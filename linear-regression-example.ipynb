{
 "cells": [
  {
   "cell_type": "code",
   "execution_count": 1,
   "metadata": {},
   "outputs": [],
   "source": [
    "from modules.analisis import linear_regression_analyzer\n",
    "from modules.data_generator import data_generator\n",
    "from modules.visualization import visualization_module"
   ]
  },
  {
   "cell_type": "code",
   "execution_count": 2,
   "metadata": {},
   "outputs": [
    {
     "name": "stdout",
     "output_type": "stream",
     "text": [
      "<modules.analisis.linear_regression_analyzer object at 0x7fd1c3b03700>\n",
      "<modules.data_generator.data_generator object at 0x7fd1c3fba1c0>\n",
      "<modules.visualization.visualization_module object at 0x7fd206f067c0>\n"
     ]
    }
   ],
   "source": [
    "analyzer = linear_regression_analyzer()\n",
    "\n",
    "data = data_generator()\n",
    "\n",
    "visualizer = visualization_module()"
   ]
  },
  {
   "cell_type": "code",
   "execution_count": 3,
   "metadata": {},
   "outputs": [
    {
     "data": {
      "text/plain": [
       "array([5.63333333, 6.17333333, 6.71333333, 7.25333333, 7.79333333])"
      ]
     },
     "execution_count": 3,
     "metadata": {},
     "output_type": "execute_result"
    }
   ],
   "source": [
    "sample_data = data.data_1\n",
    "regression_results = analyzer.simple_linear_regression(sample_data['x'], sample_data['y'])\n",
    "regression_results['model'].predict(sample_data['x_new'])"
   ]
  },
  {
   "cell_type": "code",
   "execution_count": 4,
   "metadata": {},
   "outputs": [
    {
     "name": "stdout",
     "output_type": "stream",
     "text": [
      "{'model': LinearRegression(), 'intercept': 5.633333333333329, 'slope': array([0.54]), 'determination_coeff': 0.715875613747954, 'predicted_response': array([ 8.33333333, 13.73333333, 19.13333333, 24.53333333, 29.93333333,\n",
      "       35.33333333])}\n"
     ]
    }
   ],
   "source": [
    "print(regression_results)"
   ]
  },
  {
   "cell_type": "code",
   "execution_count": 5,
   "metadata": {},
   "outputs": [
    {
     "data": {
      "text/plain": [
       "array([ 5.77760476,  7.18179502,  8.58598528,  9.99017554, 11.3943658 ])"
      ]
     },
     "execution_count": 5,
     "metadata": {},
     "output_type": "execute_result"
    }
   ],
   "source": [
    "sample_data = data.data_2\n",
    "regression_results = analyzer.multi_linear_regression(sample_data['x'], sample_data['y'])\n",
    "regression_results['model'].predict(sample_data['x_new'])"
   ]
  },
  {
   "cell_type": "code",
   "execution_count": 6,
   "metadata": {},
   "outputs": [
    {
     "name": "stdout",
     "output_type": "stream",
     "text": [
      "{'model': LinearRegression(), 'intercept': 5.52257927519819, 'slope': array([0.44706965, 0.25502548]), 'determination_coeff': 0.8615939258756775, 'predicted_response': array([ 5.77760476,  8.012953  , 12.73867497, 17.9744479 , 23.97529728,\n",
      "       29.4660957 , 38.78227633, 41.27265006])}\n"
     ]
    }
   ],
   "source": [
    "print(regression_results)"
   ]
  },
  {
   "cell_type": "code",
   "execution_count": 7,
   "metadata": {},
   "outputs": [],
   "source": [
    "sample_data = data.data_3\n",
    "regression_results = analyzer.polynomial_regression(sample_data['x'], sample_data['y'])"
   ]
  },
  {
   "cell_type": "code",
   "execution_count": 8,
   "metadata": {},
   "outputs": [
    {
     "name": "stdout",
     "output_type": "stream",
     "text": [
      "{'model': LinearRegression(), 'intercept': 21.372321428571425, 'coefficients': array([-1.32357143,  0.02839286]), 'determination_coeff': 0.8908516262498564, 'predicted_response': array([15.46428571,  7.90714286,  6.02857143,  9.82857143, 19.30714286,\n",
      "       34.46428571])}\n"
     ]
    }
   ],
   "source": [
    "print(regression_results)"
   ]
  },
  {
   "cell_type": "code",
   "execution_count": 15,
   "metadata": {},
   "outputs": [],
   "source": [
    "sample_data = data.data_3\n",
    "regression_results = analyzer.polynomial_regression(x_var=sample_data['x'], y_var=sample_data['y'])"
   ]
  },
  {
   "cell_type": "code",
   "execution_count": 16,
   "metadata": {},
   "outputs": [
    {
     "name": "stdout",
     "output_type": "stream",
     "text": [
      "{'model': LinearRegression(), 'intercept': 21.372321428571425, 'coefficients': array([-1.32357143,  0.02839286]), 'determination_coeff': 0.8908516262498564, 'predicted_response': array([15.46428571,  7.90714286,  6.02857143,  9.82857143, 19.30714286,\n",
      "       34.46428571])}\n"
     ]
    }
   ],
   "source": [
    "print(regression_results)"
   ]
  },
  {
   "cell_type": "code",
   "execution_count": 19,
   "metadata": {},
   "outputs": [],
   "source": [
    "sample_data = data.data_3\n",
    "regression_results = analyzer.polynomial_regression(x_var=sample_data['x'], y_var=sample_data['y'], include_bias=True, fit_intercept=False)"
   ]
  },
  {
   "cell_type": "code",
   "execution_count": 20,
   "metadata": {},
   "outputs": [
    {
     "name": "stdout",
     "output_type": "stream",
     "text": [
      "{'model': LinearRegression(fit_intercept=False), 'intercept': 0.0, 'coefficients': array([21.37232143, -1.32357143,  0.02839286]), 'determination_coeff': 0.8908516262498565, 'predicted_response': array([15.46428571,  7.90714286,  6.02857143,  9.82857143, 19.30714286,\n",
      "       34.46428571])}\n"
     ]
    }
   ],
   "source": [
    "print(regression_results)"
   ]
  },
  {
   "cell_type": "code",
   "execution_count": 21,
   "metadata": {},
   "outputs": [],
   "source": [
    "sample_data = data.data_3_1\n",
    "regression_results = analyzer.polynomial_regression(x_var=sample_data['x'], y_var=sample_data['y'])"
   ]
  },
  {
   "cell_type": "code",
   "execution_count": 22,
   "metadata": {},
   "outputs": [
    {
     "name": "stdout",
     "output_type": "stream",
     "text": [
      "{'model': LinearRegression(), 'intercept': 0.8430556452395734, 'coefficients': array([ 2.44828275,  0.16160353, -0.15259677,  0.47928683, -0.4641851 ]), 'determination_coeff': 0.9453701449127822, 'predicted_response': array([ 0.54047408, 11.36340283, 16.07809622, 15.79139   , 29.73858619,\n",
      "       23.50834636, 39.05631386, 41.92339046])}\n"
     ]
    }
   ],
   "source": [
    "print(regression_results)"
   ]
  },
  {
   "cell_type": "code",
   "execution_count": 23,
   "metadata": {},
   "outputs": [],
   "source": [
    "sample_data = data.data_4\n",
    "ols_results = analyzer.detailed_OLS_linear_regression(x_var=sample_data['x'], y_var=sample_data['y'])"
   ]
  },
  {
   "cell_type": "code",
   "execution_count": 24,
   "metadata": {},
   "outputs": [
    {
     "name": "stdout",
     "output_type": "stream",
     "text": [
      "{'results': <statsmodels.regression.linear_model.RegressionResultsWrapper object at 0x7fd2045fbb20>, 'determination_coeff': 0.8615939258756777, 'adj_determination_coeff': 0.8062314962259488, 'regression_coefficients': array([5.52257928, 0.44706965, 0.25502548]), 'fitted_values': array([ 5.77760476,  8.012953  , 12.73867497, 17.9744479 , 23.97529728,\n",
      "       29.4660957 , 38.78227633, 41.27265006]), 'predicted': array([ 5.77760476,  8.012953  , 12.73867497, 17.9744479 , 23.97529728,\n",
      "       29.4660957 , 38.78227633, 41.27265006])}\n"
     ]
    }
   ],
   "source": [
    "print(ols_results)"
   ]
  },
  {
   "cell_type": "code",
   "execution_count": 28,
   "metadata": {},
   "outputs": [
    {
     "name": "stderr",
     "output_type": "stream",
     "text": [
      "/home/armsjs/anaconda3/envs/DataSciencePortfolio/lib/python3.9/site-packages/scipy/stats/_stats_py.py:1769: UserWarning: kurtosistest only valid for n>=20 ... continuing anyway, n=8\n",
      "  warnings.warn(\"kurtosistest only valid for n>=20 ... continuing \"\n"
     ]
    },
    {
     "data": {
      "text/html": [
       "<table class=\"simpletable\">\n",
       "<caption>OLS Regression Results</caption>\n",
       "<tr>\n",
       "  <th>Dep. Variable:</th>            <td>y</td>        <th>  R-squared:         </th> <td>   0.862</td>\n",
       "</tr>\n",
       "<tr>\n",
       "  <th>Model:</th>                   <td>OLS</td>       <th>  Adj. R-squared:    </th> <td>   0.806</td>\n",
       "</tr>\n",
       "<tr>\n",
       "  <th>Method:</th>             <td>Least Squares</td>  <th>  F-statistic:       </th> <td>   15.56</td>\n",
       "</tr>\n",
       "<tr>\n",
       "  <th>Date:</th>             <td>Mon, 02 Oct 2023</td> <th>  Prob (F-statistic):</th>  <td>0.00713</td>\n",
       "</tr>\n",
       "<tr>\n",
       "  <th>Time:</th>                 <td>01:33:22</td>     <th>  Log-Likelihood:    </th> <td> -24.316</td>\n",
       "</tr>\n",
       "<tr>\n",
       "  <th>No. Observations:</th>      <td>     8</td>      <th>  AIC:               </th> <td>   54.63</td>\n",
       "</tr>\n",
       "<tr>\n",
       "  <th>Df Residuals:</th>          <td>     5</td>      <th>  BIC:               </th> <td>   54.87</td>\n",
       "</tr>\n",
       "<tr>\n",
       "  <th>Df Model:</th>              <td>     2</td>      <th>                     </th>     <td> </td>   \n",
       "</tr>\n",
       "<tr>\n",
       "  <th>Covariance Type:</th>      <td>nonrobust</td>    <th>                     </th>     <td> </td>   \n",
       "</tr>\n",
       "</table>\n",
       "<table class=\"simpletable\">\n",
       "<tr>\n",
       "    <td></td>       <th>coef</th>     <th>std err</th>      <th>t</th>      <th>P>|t|</th>  <th>[0.025</th>    <th>0.975]</th>  \n",
       "</tr>\n",
       "<tr>\n",
       "  <th>const</th> <td>    5.5226</td> <td>    4.431</td> <td>    1.246</td> <td> 0.268</td> <td>   -5.867</td> <td>   16.912</td>\n",
       "</tr>\n",
       "<tr>\n",
       "  <th>x1</th>    <td>    0.4471</td> <td>    0.285</td> <td>    1.567</td> <td> 0.178</td> <td>   -0.286</td> <td>    1.180</td>\n",
       "</tr>\n",
       "<tr>\n",
       "  <th>x2</th>    <td>    0.2550</td> <td>    0.453</td> <td>    0.563</td> <td> 0.598</td> <td>   -0.910</td> <td>    1.420</td>\n",
       "</tr>\n",
       "</table>\n",
       "<table class=\"simpletable\">\n",
       "<tr>\n",
       "  <th>Omnibus:</th>       <td> 0.561</td> <th>  Durbin-Watson:     </th> <td>   3.268</td>\n",
       "</tr>\n",
       "<tr>\n",
       "  <th>Prob(Omnibus):</th> <td> 0.755</td> <th>  Jarque-Bera (JB):  </th> <td>   0.534</td>\n",
       "</tr>\n",
       "<tr>\n",
       "  <th>Skew:</th>          <td> 0.380</td> <th>  Prob(JB):          </th> <td>   0.766</td>\n",
       "</tr>\n",
       "<tr>\n",
       "  <th>Kurtosis:</th>      <td> 1.987</td> <th>  Cond. No.          </th> <td>    80.1</td>\n",
       "</tr>\n",
       "</table><br/><br/>Notes:<br/>[1] Standard Errors assume that the covariance matrix of the errors is correctly specified."
      ],
      "text/plain": [
       "<class 'statsmodels.iolib.summary.Summary'>\n",
       "\"\"\"\n",
       "                            OLS Regression Results                            \n",
       "==============================================================================\n",
       "Dep. Variable:                      y   R-squared:                       0.862\n",
       "Model:                            OLS   Adj. R-squared:                  0.806\n",
       "Method:                 Least Squares   F-statistic:                     15.56\n",
       "Date:                Mon, 02 Oct 2023   Prob (F-statistic):            0.00713\n",
       "Time:                        01:33:22   Log-Likelihood:                -24.316\n",
       "No. Observations:                   8   AIC:                             54.63\n",
       "Df Residuals:                       5   BIC:                             54.87\n",
       "Df Model:                           2                                         \n",
       "Covariance Type:            nonrobust                                         \n",
       "==============================================================================\n",
       "                 coef    std err          t      P>|t|      [0.025      0.975]\n",
       "------------------------------------------------------------------------------\n",
       "const          5.5226      4.431      1.246      0.268      -5.867      16.912\n",
       "x1             0.4471      0.285      1.567      0.178      -0.286       1.180\n",
       "x2             0.2550      0.453      0.563      0.598      -0.910       1.420\n",
       "==============================================================================\n",
       "Omnibus:                        0.561   Durbin-Watson:                   3.268\n",
       "Prob(Omnibus):                  0.755   Jarque-Bera (JB):                0.534\n",
       "Skew:                           0.380   Prob(JB):                        0.766\n",
       "Kurtosis:                       1.987   Cond. No.                         80.1\n",
       "==============================================================================\n",
       "\n",
       "Notes:\n",
       "[1] Standard Errors assume that the covariance matrix of the errors is correctly specified.\n",
       "\"\"\""
      ]
     },
     "execution_count": 28,
     "metadata": {},
     "output_type": "execute_result"
    }
   ],
   "source": [
    "ols_results['results'].summary()"
   ]
  }
 ],
 "metadata": {
  "kernelspec": {
   "display_name": "DataSciencePortfolio",
   "language": "python",
   "name": "python3"
  },
  "language_info": {
   "codemirror_mode": {
    "name": "ipython",
    "version": 3
   },
   "file_extension": ".py",
   "mimetype": "text/x-python",
   "name": "python",
   "nbconvert_exporter": "python",
   "pygments_lexer": "ipython3",
   "version": "3.9.13"
  },
  "orig_nbformat": 4
 },
 "nbformat": 4,
 "nbformat_minor": 2
}
