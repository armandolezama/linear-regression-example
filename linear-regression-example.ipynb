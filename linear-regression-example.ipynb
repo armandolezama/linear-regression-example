{
 "cells": [
  {
   "cell_type": "code",
   "execution_count": 1,
   "metadata": {},
   "outputs": [],
   "source": [
    "from modules.analisis import linear_regression_analyzer\n",
    "from modules.data_generator import data_generator\n",
    "from modules.visualization import visualization_module"
   ]
  },
  {
   "cell_type": "code",
   "execution_count": 3,
   "metadata": {},
   "outputs": [
    {
     "name": "stdout",
     "output_type": "stream",
     "text": [
      "<modules.analisis.linear_regression_analyzer object at 0x7fb6401eeca0>\n",
      "<modules.data_generator.data_generator object at 0x7fb680576970>\n",
      "<modules.visualization.visualization_module object at 0x7fb68054e7c0>\n"
     ]
    }
   ],
   "source": [
    "analyzer = linear_regression_analyzer()\n",
    "\n",
    "data = data_generator()\n",
    "\n",
    "visualizer = visualization_module()"
   ]
  },
  {
   "cell_type": "code",
   "execution_count": 6,
   "metadata": {},
   "outputs": [
    {
     "data": {
      "text/plain": [
       "array([5.63333333, 6.17333333, 6.71333333, 7.25333333, 7.79333333])"
      ]
     },
     "execution_count": 6,
     "metadata": {},
     "output_type": "execute_result"
    }
   ],
   "source": [
    "sample_data = data.data_1\n",
    "regression_results = analyzer.simple_linear_regression(sample_data['x'], sample_data['y'])\n",
    "regression_results['model'].predict(sample_data['x_new'])"
   ]
  }
 ],
 "metadata": {
  "kernelspec": {
   "display_name": "DataSciencePortfolio",
   "language": "python",
   "name": "python3"
  },
  "language_info": {
   "codemirror_mode": {
    "name": "ipython",
    "version": 3
   },
   "file_extension": ".py",
   "mimetype": "text/x-python",
   "name": "python",
   "nbconvert_exporter": "python",
   "pygments_lexer": "ipython3",
   "version": "3.9.13"
  },
  "orig_nbformat": 4
 },
 "nbformat": 4,
 "nbformat_minor": 2
}
